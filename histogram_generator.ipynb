{
 "cells": [
  {
   "cell_type": "code",
   "execution_count": 2,
   "metadata": {},
   "outputs": [
    {
     "name": "stdout",
     "output_type": "stream",
     "text": [
      "Populating the interactive namespace from numpy and matplotlib\n"
     ]
    }
   ],
   "source": [
    "%pylab inline"
   ]
  },
  {
   "cell_type": "code",
   "execution_count": 3,
   "metadata": {},
   "outputs": [
    {
     "name": "stdout",
     "output_type": "stream",
     "text": [
      "/Users/rafaelhaber/Desktop/rmh287/data/20180905-0019.csv\n"
     ]
    }
   ],
   "source": [
    "import os\n",
    "data_dir = os.path.join(os.getcwd(), 'data')\n",
    "csv_files = array([os.path.join(data_dir, x) for x in os.listdir(data_dir)])\n",
    "print(csv_files[0])"
   ]
  },
  {
   "cell_type": "code",
   "execution_count": 4,
   "metadata": {},
   "outputs": [
    {
     "data": {
      "image/png": "[encoded data removed]",
      "text/plain": [
       "<Figure size 432x288 with 1 Axes>"
      ]
     },
     "metadata": {},
     "output_type": "display_data"
    }
   ],
   "source": [
    "data = []\n",
    "for csv in csv_files:\n",
    "    data.extend(np.genfromtxt(csv, delimiter=',', skip_header=2)[:,1])\n",
    "# print(data)\n",
    "ylim((0,10000))\n",
    "plt.hist(data, bins=100)  # arguments are passed to np.histogram\n",
    "plt.title(\"Histogram with 'auto' bins\")\n",
    "plt.show()\n",
    "# vals, edges = np.histogram(array(data), 10000)\n",
    "# plot(edges, vals)\n",
    "# plot(data[:,0], data[:,1])"
   ]
  },
  {
   "cell_type": "code",
   "execution_count": 7,
   "metadata": {},
   "outputs": [
    {
     "name": "stdout",
     "output_type": "stream",
     "text": [
      "[[ 0.00000000e+00 -9.26755600e+00]\n",
      " [ 3.20000000e-04 -9.26755600e+00]\n",
      " [ 6.40000000e-04 -9.26755600e+00]\n",
      " ...\n",
      " [ 2.00063999e+00 -1.42521400e+00]\n",
      " [ 2.00095999e+00 -1.33610000e+00]\n",
      " [ 2.00127999e+00 -1.42521400e+00]]\n"
     ]
    }
   ],
   "source": [
    "n = 0\n",
    "\n",
    "finp.genfromtxt(csv_files[n], delimiter=',', skip_header=2))\n",
    "\n"
   ]
  },
  {
   "cell_type": "code",
   "execution_count": null,
   "metadata": {},
   "outputs": [],
   "source": []
  }
 ],
 "metadata": {
  "kernelspec": {
   "display_name": "Python 3",
   "language": "python",
   "name": "python3"
  },
  "language_info": {
   "codemirror_mode": {
    "name": "ipython",
    "version": 3
   },
   "file_extension": ".py",
   "mimetype": "text/x-python",
   "name": "python",
   "nbconvert_exporter": "python",
   "pygments_lexer": "ipython3",
   "version": "3.6.5"
  }
 },
 "nbformat": 4,
 "nbformat_minor": 2
}
